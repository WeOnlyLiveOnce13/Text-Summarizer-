{
 "cells": [
  {
   "cell_type": "markdown",
   "id": "9db0ab7b",
   "metadata": {},
   "source": [
    "Texting the kernel"
   ]
  },
  {
   "cell_type": "code",
   "execution_count": 2,
   "id": "ccb99f03",
   "metadata": {},
   "outputs": [
    {
     "data": {
      "text/plain": [
       "2"
      ]
     },
     "execution_count": 2,
     "metadata": {},
     "output_type": "execute_result"
    }
   ],
   "source": [
    "1+1"
   ]
  },
  {
   "cell_type": "markdown",
   "id": "aaeaeed9",
   "metadata": {},
   "source": []
  },
  {
   "cell_type": "code",
   "execution_count": 3,
   "id": "17f52880",
   "metadata": {},
   "outputs": [
    {
     "data": {
      "text/plain": [
       "'Dan'"
      ]
     },
     "execution_count": 3,
     "metadata": {},
     "output_type": "execute_result"
    }
   ],
   "source": [
    "dict_info={\"name\":\"Dan\",\"lastname\":\"Tshisungu\"}\n",
    "\n",
    "dict_info[\"name\"]"
   ]
  },
  {
   "cell_type": "markdown",
   "id": "ef9317f3",
   "metadata": {},
   "source": [
    "Use **ConfigBox** to enable reading objects in the following format `dict_info.name` which is not naturally enabled. \n",
    "\n",
    "Important for inputs data in .yml files"
   ]
  },
  {
   "cell_type": "code",
   "execution_count": 7,
   "id": "0e7e97d4",
   "metadata": {},
   "outputs": [
    {
     "data": {
      "text/plain": [
       "'Dan'"
      ]
     },
     "execution_count": 7,
     "metadata": {},
     "output_type": "execute_result"
    }
   ],
   "source": [
    "from box import ConfigBox\n",
    "dict_info=ConfigBox({\"name\":\"Dan\",\"lastname\":\"Tshisungu\"})\n",
    "dict_info.name"
   ]
  },
  {
   "cell_type": "markdown",
   "id": "5bdf1cd3",
   "metadata": {},
   "source": [
    "Use `ensure_annotations` decorator to **ensure** the type of inputs and prevents unforeseen errors such as:\n",
    "\n",
    "2*\"3\" resulting in `33`"
   ]
  },
  {
   "cell_type": "code",
   "execution_count": 8,
   "id": "699ae208",
   "metadata": {},
   "outputs": [],
   "source": [
    "from ensure import ensure_annotations\n",
    "\n",
    "@ensure_annotations\n",
    "def multiplication(x:int,y:int)-> int:\n",
    "    return x*y"
   ]
  }
 ],
 "metadata": {
  "kernelspec": {
   "display_name": "textsum",
   "language": "python",
   "name": "python3"
  },
  "language_info": {
   "codemirror_mode": {
    "name": "ipython",
    "version": 3
   },
   "file_extension": ".py",
   "mimetype": "text/x-python",
   "name": "python",
   "nbconvert_exporter": "python",
   "pygments_lexer": "ipython3",
   "version": "3.10.17"
  }
 },
 "nbformat": 4,
 "nbformat_minor": 5
}
